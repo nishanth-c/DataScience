{
  "nbformat": 4,
  "nbformat_minor": 0,
  "metadata": {
    "colab": {
      "name": "Pytorch CNN.ipynb",
      "provenance": []
    },
    "kernelspec": {
      "name": "python3",
      "display_name": "Python 3"
    },
    "accelerator": "GPU",
    "widgets": {
      "application/vnd.jupyter.widget-state+json": {
        "e153081adcbe429f96d3ea0861f8e91c": {
          "model_module": "@jupyter-widgets/controls",
          "model_name": "HBoxModel",
          "state": {
            "_view_name": "HBoxView",
            "_dom_classes": [],
            "_model_name": "HBoxModel",
            "_view_module": "@jupyter-widgets/controls",
            "_model_module_version": "1.5.0",
            "_view_count": null,
            "_view_module_version": "1.5.0",
            "box_style": "",
            "layout": "IPY_MODEL_a644176430bf452d95b9b4c149087758",
            "_model_module": "@jupyter-widgets/controls",
            "children": [
              "IPY_MODEL_a5d58d81dea748b396e09e8acc9b1f53",
              "IPY_MODEL_56510a09b41144afaf485f66db607ede"
            ]
          }
        },
        "a644176430bf452d95b9b4c149087758": {
          "model_module": "@jupyter-widgets/base",
          "model_name": "LayoutModel",
          "state": {
            "_view_name": "LayoutView",
            "grid_template_rows": null,
            "right": null,
            "justify_content": null,
            "_view_module": "@jupyter-widgets/base",
            "overflow": null,
            "_model_module_version": "1.2.0",
            "_view_count": null,
            "flex_flow": null,
            "width": null,
            "min_width": null,
            "border": null,
            "align_items": null,
            "bottom": null,
            "_model_module": "@jupyter-widgets/base",
            "top": null,
            "grid_column": null,
            "overflow_y": null,
            "overflow_x": null,
            "grid_auto_flow": null,
            "grid_area": null,
            "grid_template_columns": null,
            "flex": null,
            "_model_name": "LayoutModel",
            "justify_items": null,
            "grid_row": null,
            "max_height": null,
            "align_content": null,
            "visibility": null,
            "align_self": null,
            "height": null,
            "min_height": null,
            "padding": null,
            "grid_auto_rows": null,
            "grid_gap": null,
            "max_width": null,
            "order": null,
            "_view_module_version": "1.2.0",
            "grid_template_areas": null,
            "object_position": null,
            "object_fit": null,
            "grid_auto_columns": null,
            "margin": null,
            "display": null,
            "left": null
          }
        },
        "a5d58d81dea748b396e09e8acc9b1f53": {
          "model_module": "@jupyter-widgets/controls",
          "model_name": "FloatProgressModel",
          "state": {
            "_view_name": "ProgressView",
            "style": "IPY_MODEL_0b41641ce24f483eb034ec605829edec",
            "_dom_classes": [],
            "description": "",
            "_model_name": "FloatProgressModel",
            "bar_style": "info",
            "max": 1,
            "_view_module": "@jupyter-widgets/controls",
            "_model_module_version": "1.5.0",
            "value": 1,
            "_view_count": null,
            "_view_module_version": "1.5.0",
            "orientation": "horizontal",
            "min": 0,
            "description_tooltip": null,
            "_model_module": "@jupyter-widgets/controls",
            "layout": "IPY_MODEL_32f47c50f87844b7b3c332676c905bd3"
          }
        },
        "56510a09b41144afaf485f66db607ede": {
          "model_module": "@jupyter-widgets/controls",
          "model_name": "HTMLModel",
          "state": {
            "_view_name": "HTMLView",
            "style": "IPY_MODEL_2deca70e69e84ad7beeaee3c5eb2ade0",
            "_dom_classes": [],
            "description": "",
            "_model_name": "HTMLModel",
            "placeholder": "​",
            "_view_module": "@jupyter-widgets/controls",
            "_model_module_version": "1.5.0",
            "value": " 170500096/? [00:30&lt;00:00, 17115319.01it/s]",
            "_view_count": null,
            "_view_module_version": "1.5.0",
            "description_tooltip": null,
            "_model_module": "@jupyter-widgets/controls",
            "layout": "IPY_MODEL_89ab279e2e1f4e718475685b6e4791e9"
          }
        },
        "0b41641ce24f483eb034ec605829edec": {
          "model_module": "@jupyter-widgets/controls",
          "model_name": "ProgressStyleModel",
          "state": {
            "_view_name": "StyleView",
            "_model_name": "ProgressStyleModel",
            "description_width": "initial",
            "_view_module": "@jupyter-widgets/base",
            "_model_module_version": "1.5.0",
            "_view_count": null,
            "_view_module_version": "1.2.0",
            "bar_color": null,
            "_model_module": "@jupyter-widgets/controls"
          }
        },
        "32f47c50f87844b7b3c332676c905bd3": {
          "model_module": "@jupyter-widgets/base",
          "model_name": "LayoutModel",
          "state": {
            "_view_name": "LayoutView",
            "grid_template_rows": null,
            "right": null,
            "justify_content": null,
            "_view_module": "@jupyter-widgets/base",
            "overflow": null,
            "_model_module_version": "1.2.0",
            "_view_count": null,
            "flex_flow": null,
            "width": null,
            "min_width": null,
            "border": null,
            "align_items": null,
            "bottom": null,
            "_model_module": "@jupyter-widgets/base",
            "top": null,
            "grid_column": null,
            "overflow_y": null,
            "overflow_x": null,
            "grid_auto_flow": null,
            "grid_area": null,
            "grid_template_columns": null,
            "flex": null,
            "_model_name": "LayoutModel",
            "justify_items": null,
            "grid_row": null,
            "max_height": null,
            "align_content": null,
            "visibility": null,
            "align_self": null,
            "height": null,
            "min_height": null,
            "padding": null,
            "grid_auto_rows": null,
            "grid_gap": null,
            "max_width": null,
            "order": null,
            "_view_module_version": "1.2.0",
            "grid_template_areas": null,
            "object_position": null,
            "object_fit": null,
            "grid_auto_columns": null,
            "margin": null,
            "display": null,
            "left": null
          }
        },
        "2deca70e69e84ad7beeaee3c5eb2ade0": {
          "model_module": "@jupyter-widgets/controls",
          "model_name": "DescriptionStyleModel",
          "state": {
            "_view_name": "StyleView",
            "_model_name": "DescriptionStyleModel",
            "description_width": "",
            "_view_module": "@jupyter-widgets/base",
            "_model_module_version": "1.5.0",
            "_view_count": null,
            "_view_module_version": "1.2.0",
            "_model_module": "@jupyter-widgets/controls"
          }
        },
        "89ab279e2e1f4e718475685b6e4791e9": {
          "model_module": "@jupyter-widgets/base",
          "model_name": "LayoutModel",
          "state": {
            "_view_name": "LayoutView",
            "grid_template_rows": null,
            "right": null,
            "justify_content": null,
            "_view_module": "@jupyter-widgets/base",
            "overflow": null,
            "_model_module_version": "1.2.0",
            "_view_count": null,
            "flex_flow": null,
            "width": null,
            "min_width": null,
            "border": null,
            "align_items": null,
            "bottom": null,
            "_model_module": "@jupyter-widgets/base",
            "top": null,
            "grid_column": null,
            "overflow_y": null,
            "overflow_x": null,
            "grid_auto_flow": null,
            "grid_area": null,
            "grid_template_columns": null,
            "flex": null,
            "_model_name": "LayoutModel",
            "justify_items": null,
            "grid_row": null,
            "max_height": null,
            "align_content": null,
            "visibility": null,
            "align_self": null,
            "height": null,
            "min_height": null,
            "padding": null,
            "grid_auto_rows": null,
            "grid_gap": null,
            "max_width": null,
            "order": null,
            "_view_module_version": "1.2.0",
            "grid_template_areas": null,
            "object_position": null,
            "object_fit": null,
            "grid_auto_columns": null,
            "margin": null,
            "display": null,
            "left": null
          }
        }
      }
    }
  },
  "cells": [
    {
      "cell_type": "code",
      "metadata": {
        "id": "4bQROsmjT_Au"
      },
      "source": [
        "import torch\n",
        "import matplotlib.pyplot as plt\n",
        "import numpy as np"
      ],
      "execution_count": 1,
      "outputs": []
    },
    {
      "cell_type": "markdown",
      "metadata": {
        "id": "oxV9lhnwUtfN"
      },
      "source": [
        "University of Toronto CIFAR-10 Dataset\n",
        "\n",
        "60000 Images 3 channels. 10 classes"
      ]
    },
    {
      "cell_type": "code",
      "metadata": {
        "id": "_UQ8hnCJUqTU"
      },
      "source": [
        "import torchvision\n",
        "import torchvision.transforms as transform"
      ],
      "execution_count": 2,
      "outputs": []
    },
    {
      "cell_type": "code",
      "metadata": {
        "id": "1Y1cR70AVNZv",
        "outputId": "0d7e6617-e866-49ee-fc55-8679da36d73d",
        "colab": {
          "base_uri": "https://localhost:8080/",
          "height": 83,
          "referenced_widgets": [
            "e153081adcbe429f96d3ea0861f8e91c",
            "a644176430bf452d95b9b4c149087758",
            "a5d58d81dea748b396e09e8acc9b1f53",
            "56510a09b41144afaf485f66db607ede",
            "0b41641ce24f483eb034ec605829edec",
            "32f47c50f87844b7b3c332676c905bd3",
            "2deca70e69e84ad7beeaee3c5eb2ade0",
            "89ab279e2e1f4e718475685b6e4791e9"
          ]
        }
      },
      "source": [
        "trainsets = torchvision.datasets.CIFAR10(root = './data',train = True,download = True,transform = transform.ToTensor())"
      ],
      "execution_count": 3,
      "outputs": [
        {
          "output_type": "stream",
          "text": [
            "Downloading https://www.cs.toronto.edu/~kriz/cifar-10-python.tar.gz to ./data/cifar-10-python.tar.gz\n"
          ],
          "name": "stdout"
        },
        {
          "output_type": "display_data",
          "data": {
            "application/vnd.jupyter.widget-view+json": {
              "model_id": "e153081adcbe429f96d3ea0861f8e91c",
              "version_minor": 0,
              "version_major": 2
            },
            "text/plain": [
              "HBox(children=(FloatProgress(value=1.0, bar_style='info', max=1.0), HTML(value='')))"
            ]
          },
          "metadata": {
            "tags": []
          }
        },
        {
          "output_type": "stream",
          "text": [
            "Extracting ./data/cifar-10-python.tar.gz to ./data\n"
          ],
          "name": "stdout"
        }
      ]
    },
    {
      "cell_type": "code",
      "metadata": {
        "id": "Zm2s-B8wV3lY"
      },
      "source": [
        "classes = ('Airplane','Automobile','bird','cat','deer','dog','frog', 'horse','ship','truck')"
      ],
      "execution_count": 4,
      "outputs": []
    },
    {
      "cell_type": "code",
      "metadata": {
        "id": "a-YVK4L2WToj"
      },
      "source": [
        "trainloader = torch.utils.data.DataLoader(trainsets,batch_size=4,shuffle = True) # Everytime I get a shuffled 4 Images"
      ],
      "execution_count": 5,
      "outputs": []
    },
    {
      "cell_type": "code",
      "metadata": {
        "id": "PCQvbcqIWvBv",
        "outputId": "a77e212d-eefe-4de5-cea2-bb73757d92c9",
        "colab": {
          "base_uri": "https://localhost:8080/",
          "height": 51
        }
      },
      "source": [
        "dataiter = iter(trainloader)\n",
        "images,labels = dataiter.next()\n",
        "print(images.shape)\n",
        "print(images[0].shape)"
      ],
      "execution_count": 6,
      "outputs": [
        {
          "output_type": "stream",
          "text": [
            "torch.Size([4, 3, 32, 32])\n",
            "torch.Size([3, 32, 32])\n"
          ],
          "name": "stdout"
        }
      ]
    },
    {
      "cell_type": "markdown",
      "metadata": {
        "id": "yw6kIv9mXzWD"
      },
      "source": [
        "#Lets Visualize the Image\n"
      ]
    },
    {
      "cell_type": "code",
      "metadata": {
        "id": "D8qJ6E4EX13_"
      },
      "source": [
        "img = images[0]"
      ],
      "execution_count": 7,
      "outputs": []
    },
    {
      "cell_type": "code",
      "metadata": {
        "id": "StcmUZM9YDAC"
      },
      "source": [
        "npimg = img.numpy()"
      ],
      "execution_count": 8,
      "outputs": []
    },
    {
      "cell_type": "code",
      "metadata": {
        "id": "NDCZB-uVYb2z",
        "outputId": "21412a78-f8e9-4f2c-b282-e8da8a9a19fd",
        "colab": {
          "base_uri": "https://localhost:8080/",
          "height": 34
        }
      },
      "source": [
        "npimg.shape"
      ],
      "execution_count": 9,
      "outputs": [
        {
          "output_type": "execute_result",
          "data": {
            "text/plain": [
              "(3, 32, 32)"
            ]
          },
          "metadata": {
            "tags": []
          },
          "execution_count": 9
        }
      ]
    },
    {
      "cell_type": "code",
      "metadata": {
        "id": "kpsHl6uiYUys"
      },
      "source": [
        "npimg = np.transpose(npimg,(1,2,0))"
      ],
      "execution_count": 10,
      "outputs": []
    },
    {
      "cell_type": "code",
      "metadata": {
        "id": "pMt-F3HzYk32",
        "outputId": "49d261c9-69dc-41db-c178-e06af55b5c7e",
        "colab": {
          "base_uri": "https://localhost:8080/",
          "height": 283
        }
      },
      "source": [
        "plt.figure()\n",
        "plt.imshow(npimg)"
      ],
      "execution_count": 11,
      "outputs": [
        {
          "output_type": "execute_result",
          "data": {
            "text/plain": [
              "<matplotlib.image.AxesImage at 0x7f4b300ea6a0>"
            ]
          },
          "metadata": {
            "tags": []
          },
          "execution_count": 11
        },
        {
          "output_type": "display_data",
          "data": {
            "image/png": "[encoded data removed]",
            "text/plain": [
              "<Figure size 432x288 with 1 Axes>"
            ]
          },
          "metadata": {
            "tags": [],
            "needs_background": "light"
          }
        }
      ]
    },
    {
      "cell_type": "code",
      "metadata": {
        "id": "aj8hYgocaVYz"
      },
      "source": [
        "def imshow(images):\n",
        "  npimg1 = images.numpy()\n",
        "  img = np.transpose(npimg1,(1,2,0))\n",
        "  plt.imshow(img)\n",
        "  plt.show()"
      ],
      "execution_count": 12,
      "outputs": []
    },
    {
      "cell_type": "code",
      "metadata": {
        "id": "FCgEp2N_ZFEk",
        "outputId": "25d94200-d3e3-4fe9-b320-c4aea8d4dee7",
        "colab": {
          "base_uri": "https://localhost:8080/",
          "height": 155
        }
      },
      "source": [
        "imshow(torchvision.utils.make_grid(images))\n",
        "print(' '.join(classes[labels[j]] for j in range(4)))"
      ],
      "execution_count": 13,
      "outputs": [
        {
          "output_type": "display_data",
          "data": {
            "image/png": "[encoded data removed]",
            "text/plain": [
              "<Figure size 432x288 with 1 Axes>"
            ]
          },
          "metadata": {
            "tags": [],
            "needs_background": "light"
          }
        },
        {
          "output_type": "stream",
          "text": [
            "bird Automobile bird ship\n"
          ],
          "name": "stdout"
        }
      ]
    },
    {
      "cell_type": "markdown",
      "metadata": {
        "id": "kR6KIPFMq1QT"
      },
      "source": [
        "# Convolution\n"
      ]
    },
    {
      "cell_type": "code",
      "metadata": {
        "id": "blSwzc_Cp92V"
      },
      "source": [
        "import torch.nn as nn\n",
        "\n",
        "class CNN(nn.Module):\n",
        "  def __init__(self):\n",
        "    super(CNN,self).__init__()\n",
        "    self.conv = nn.Conv2d(3,16,3,padding = (1,1),stride = (1,1)) #depth = channels , #No. of kernels = K, # F- spatial Extent of the kernel \n",
        "  def forward(self,X):\n",
        "    return self.conv(X)"
      ],
      "execution_count": 14,
      "outputs": []
    },
    {
      "cell_type": "code",
      "metadata": {
        "id": "s2pcKPEPsMPX"
      },
      "source": [
        "firstnet = CNN()"
      ],
      "execution_count": 15,
      "outputs": []
    },
    {
      "cell_type": "code",
      "metadata": {
        "id": "U0ZkkoC9sUOR",
        "outputId": "087eaf11-efbf-4f4e-f8b7-139e33be9299",
        "colab": {
          "base_uri": "https://localhost:8080/",
          "height": 34
        }
      },
      "source": [
        "out = firstnet(images)\n",
        "out.shape #Since we didn't use Padding the image dimensions have shrunk"
      ],
      "execution_count": 16,
      "outputs": [
        {
          "output_type": "execute_result",
          "data": {
            "text/plain": [
              "torch.Size([4, 16, 32, 32])"
            ]
          },
          "metadata": {
            "tags": []
          },
          "execution_count": 16
        }
      ]
    },
    {
      "cell_type": "code",
      "metadata": {
        "id": "p3r4m72qsz2b",
        "outputId": "93e5b9b4-87ca-438b-8b8c-5d93ff17454f",
        "colab": {
          "base_uri": "https://localhost:8080/",
          "height": 51
        }
      },
      "source": [
        "for param in firstnet.parameters():\n",
        "  print(param.shape) #16 kernels 3channels 3X3 spatial filter\n",
        "  #16 Bias terms"
      ],
      "execution_count": 17,
      "outputs": [
        {
          "output_type": "stream",
          "text": [
            "torch.Size([16, 3, 3, 3])\n",
            "torch.Size([16])\n"
          ],
          "name": "stdout"
        }
      ]
    },
    {
      "cell_type": "code",
      "metadata": {
        "id": "PhyzDtoUuJT1",
        "outputId": "1a91b09c-970a-4311-98c9-0dd6431f5432",
        "colab": {
          "base_uri": "https://localhost:8080/",
          "height": 34
        }
      },
      "source": [
        "out1 = out[0,0,:,:].detach().numpy()\n",
        "out1.shape"
      ],
      "execution_count": 18,
      "outputs": [
        {
          "output_type": "execute_result",
          "data": {
            "text/plain": [
              "(32, 32)"
            ]
          },
          "metadata": {
            "tags": []
          },
          "execution_count": 18
        }
      ]
    },
    {
      "cell_type": "code",
      "metadata": {
        "id": "zqW8yw4vuYir",
        "outputId": "82546fcc-7074-4196-bf3a-344018e65d0b",
        "colab": {
          "base_uri": "https://localhost:8080/",
          "height": 266
        }
      },
      "source": [
        "plt.imshow(out1)\n",
        "plt.show() #preprocessed feature of the bird we are seeing"
      ],
      "execution_count": 19,
      "outputs": [
        {
          "output_type": "display_data",
          "data": {
            "image/png": "[encoded data removed]",
            "text/plain": [
              "<Figure size 432x288 with 1 Axes>"
            ]
          },
          "metadata": {
            "tags": [],
            "needs_background": "light"
          }
        }
      ]
    },
    {
      "cell_type": "markdown",
      "metadata": {
        "id": "o6q_TRzjvbq4"
      },
      "source": [
        "#DeepCNN"
      ]
    },
    {
      "cell_type": "code",
      "metadata": {
        "id": "xxyzFVTnvYxs"
      },
      "source": [
        "class deepCNN(nn.Module):\n",
        "  def __init__(self):\n",
        "    super(deepCNN, self).__init__()\n",
        "    self.model = nn.Sequential(\n",
        "        nn.Conv2d(3,8,3),  #input (4-batch size,3,32,32) -> #3 Channels, 8 No. of Kernels, 3 F Spatial Extent -> (4,8,30,30)\n",
        "        nn.Conv2d(8,16,3) #8 Channels, 16 No. of Kernels, 3 F Spatial Extent - > (4,16,28,28)\n",
        "    )\n",
        "  def forward(self,X):\n",
        "    return self.model(X)"
      ],
      "execution_count": 20,
      "outputs": []
    },
    {
      "cell_type": "code",
      "metadata": {
        "id": "esU5irMtwkAG"
      },
      "source": [
        "Deepcnn = deepCNN()"
      ],
      "execution_count": 21,
      "outputs": []
    },
    {
      "cell_type": "code",
      "metadata": {
        "id": "-t8zeUdfw2Jk",
        "outputId": "55876acf-ae92-4153-b750-affc7332b29d",
        "colab": {
          "base_uri": "https://localhost:8080/",
          "height": 34
        }
      },
      "source": [
        "out = Deepcnn.forward(images)\n",
        "out.shape"
      ],
      "execution_count": 22,
      "outputs": [
        {
          "output_type": "execute_result",
          "data": {
            "text/plain": [
              "torch.Size([4, 16, 28, 28])"
            ]
          },
          "metadata": {
            "tags": []
          },
          "execution_count": 22
        }
      ]
    },
    {
      "cell_type": "code",
      "metadata": {
        "id": "4ZoL6SmNxu05",
        "outputId": "d25725cc-6049-4238-8f88-e052cf0e2a0d",
        "colab": {
          "base_uri": "https://localhost:8080/",
          "height": 265
        }
      },
      "source": [
        "npout = out[0,0,:,:].detach().numpy()\n",
        "plt.imshow(npout)\n",
        "plt.show()"
      ],
      "execution_count": 23,
      "outputs": [
        {
          "output_type": "display_data",
          "data": {
            "image/png": "[encoded data removed]",
            "text/plain": [
              "<Figure size 432x288 with 1 Axes>"
            ]
          },
          "metadata": {
            "tags": [],
            "needs_background": "light"
          }
        }
      ]
    },
    {
      "cell_type": "code",
      "metadata": {
        "id": "UgyQTakAyLua"
      },
      "source": [
        "class deepCNN_v2(nn.Module):\n",
        "  def __init__(self):\n",
        "    super(deepCNN_v2,self).__init__()\n",
        "    self.model = nn.Sequential(\n",
        "        nn.Conv2d(3,6,5), #output -> (4,6,28,28)\n",
        "        nn.AvgPool2d(2,stride = 2), #2X2 patch size and stride = 2,2 - >  (4,6,14,14)\n",
        "        nn.Conv2d(6,16,5), # (4,16,10,10)\n",
        "        nn.AvgPool2d(2,stride = 2) #(4,16,5,5)\n",
        "    )\n",
        "  def forward(self,X):\n",
        "    return self.model(X)"
      ],
      "execution_count": 24,
      "outputs": []
    },
    {
      "cell_type": "code",
      "metadata": {
        "id": "WseVbwUq0X3g"
      },
      "source": [
        "deepcnn = deepCNN_v2()"
      ],
      "execution_count": 25,
      "outputs": []
    },
    {
      "cell_type": "code",
      "metadata": {
        "id": "qn4N4pGT1ClM",
        "outputId": "73f1afb4-6d90-4246-82ea-c1d0f6389b76",
        "colab": {
          "base_uri": "https://localhost:8080/",
          "height": 34
        }
      },
      "source": [
        "out = deepcnn.forward(images)\n",
        "print(out.shape)\n",
        "npout = out[0,0,:,:].detach().numpy()"
      ],
      "execution_count": 26,
      "outputs": [
        {
          "output_type": "stream",
          "text": [
            "torch.Size([4, 16, 5, 5])\n"
          ],
          "name": "stdout"
        }
      ]
    },
    {
      "cell_type": "code",
      "metadata": {
        "id": "9zU2Zsdl1WMF",
        "outputId": "27413bc7-d59c-46c1-f1a7-dd9d06b8b8d4",
        "colab": {
          "base_uri": "https://localhost:8080/",
          "height": 265
        }
      },
      "source": [
        "plt.imshow(npout)\n",
        "plt.show()"
      ],
      "execution_count": 27,
      "outputs": [
        {
          "output_type": "display_data",
          "data": {
            "image/png": "[encoded data removed]",
            "text/plain": [
              "<Figure size 432x288 with 1 Axes>"
            ]
          },
          "metadata": {
            "tags": [],
            "needs_background": "light"
          }
        }
      ]
    },
    {
      "cell_type": "markdown",
      "metadata": {
        "id": "D2RLObaC2q42"
      },
      "source": [
        "#Lenet Architecture"
      ]
    },
    {
      "cell_type": "markdown",
      "metadata": {
        "id": "KJB6IFM72uhg"
      },
      "source": [
        "<img src ='https://classic.d2l.ai/_images/lenet.svg'> </img>"
      ]
    },
    {
      "cell_type": "code",
      "metadata": {
        "id": "lRoR_bc93O4i"
      },
      "source": [
        "class Lenet(nn.Module):\n",
        "  def __init__(self):\n",
        "    super(Lenet,self).__init__()\n",
        "    self.convol = nn.Sequential(\n",
        "        nn.Conv2d(3,6,5), #(4,3,32,32) -> (4,6,28,28)\n",
        "        nn.LeakyReLU(),\n",
        "        nn.AvgPool2d(2,stride=2), #(4,6,14,14)\n",
        "        nn.Conv2d(6,16,5),# (4,16,10,10)\n",
        "        nn.LeakyReLU(),\n",
        "        nn.AvgPool2d(2,stride = 2) #(4,16,5,5)\n",
        "        #after this we need to flatten the structure into a 1d vector    16*5*5 = 400     \n",
        "    )\n",
        "    self.FCNN = nn.Sequential(\n",
        "        nn.Linear(400,120),\n",
        "        nn.LeakyReLU(),\n",
        "        nn.Linear(120,84),\n",
        "        nn.LeakyReLU(),\n",
        "        nn.Linear(84,10) #Softmax will be available in training\n",
        "    )\n",
        "  def forward(self,X):\n",
        "    # print(\"The shape right now is:\",X.shape)\n",
        "    X = self.convol(X)\n",
        "    # print(\"The shape right now is:\",X.shape)\n",
        "    X = X.view(X.shape[0],-1)\n",
        "    # print(\"The shape right now is:\",X.shape) #Flattening to N,400\n",
        "    X = self.FCNN(X)\n",
        "    # print(\"The shape right now is:\",X.shape)\n",
        "    return X\n"
      ],
      "execution_count": 70,
      "outputs": []
    },
    {
      "cell_type": "code",
      "metadata": {
        "id": "9VfRvVO77D6p"
      },
      "source": [
        "lenet = Lenet()"
      ],
      "execution_count": 29,
      "outputs": []
    },
    {
      "cell_type": "code",
      "metadata": {
        "id": "oD00hTz58ZC4",
        "outputId": "3d8d8699-5a2f-44bb-c371-163e895e0d07",
        "colab": {
          "base_uri": "https://localhost:8080/",
          "height": 85
        }
      },
      "source": [
        "out = lenet.forward(images)"
      ],
      "execution_count": 30,
      "outputs": [
        {
          "output_type": "stream",
          "text": [
            "The shape right now is: torch.Size([4, 3, 32, 32])\n",
            "The shape right now is: torch.Size([4, 16, 5, 5])\n",
            "The shape right now is: torch.Size([4, 400])\n",
            "The shape right now is: torch.Size([4, 10])\n"
          ],
          "name": "stdout"
        }
      ]
    },
    {
      "cell_type": "code",
      "metadata": {
        "id": "6bHKv6Uz8zbY"
      },
      "source": [
        "max_vals,class_pred =torch.max(out.data,1) # 1 corresponds to column"
      ],
      "execution_count": 31,
      "outputs": []
    },
    {
      "cell_type": "code",
      "metadata": {
        "id": "FWgeaPLk9Vu8",
        "outputId": "23d49faa-073f-4ed2-e825-d937c9f4d491",
        "colab": {
          "base_uri": "https://localhost:8080/",
          "height": 34
        }
      },
      "source": [
        "class_pred"
      ],
      "execution_count": 32,
      "outputs": [
        {
          "output_type": "execute_result",
          "data": {
            "text/plain": [
              "tensor([1, 1, 1, 1])"
            ]
          },
          "metadata": {
            "tags": []
          },
          "execution_count": 32
        }
      ]
    },
    {
      "cell_type": "markdown",
      "metadata": {
        "id": "fS-ptAmJ9gsZ"
      },
      "source": [
        "#LeNet Training"
      ]
    },
    {
      "cell_type": "code",
      "metadata": {
        "id": "RRs8IH92B0OM",
        "outputId": "e518767f-d13a-49d0-9b60-925c96b85302",
        "colab": {
          "base_uri": "https://localhost:8080/",
          "height": 34
        }
      },
      "source": [
        "device = torch.device('cuda:0' if torch.cuda.is_available() else 'cpu')\n",
        "device"
      ],
      "execution_count": 71,
      "outputs": [
        {
          "output_type": "execute_result",
          "data": {
            "text/plain": [
              "device(type='cuda', index=0)"
            ]
          },
          "metadata": {
            "tags": []
          },
          "execution_count": 71
        }
      ]
    },
    {
      "cell_type": "code",
      "metadata": {
        "id": "cDCgjigyDrhr"
      },
      "source": [
        "import torch.optim as optim"
      ],
      "execution_count": 72,
      "outputs": []
    },
    {
      "cell_type": "code",
      "metadata": {
        "id": "t_f86_tF9jFO",
        "outputId": "c7576757-4504-4f94-daf0-527d8826250d",
        "colab": {
          "base_uri": "https://localhost:8080/",
          "height": 51
        }
      },
      "source": [
        "batch_size = 128\n",
        "train = torchvision.datasets.CIFAR10(root='./data',train = True, download = True,transform = transform.ToTensor())\n",
        "trainset = torch.utils.data.DataLoader(train,batch_size=batch_size, shuffle = True)\n",
        "test = torchvision.datasets.CIFAR10(root='./data',train = False, download = True,transform = transform.ToTensor())\n",
        "testset = torch.utils.data.DataLoader(test,batch_size=batch_size, shuffle = False)"
      ],
      "execution_count": 73,
      "outputs": [
        {
          "output_type": "stream",
          "text": [
            "Files already downloaded and verified\n",
            "Files already downloaded and verified\n"
          ],
          "name": "stdout"
        }
      ]
    },
    {
      "cell_type": "code",
      "metadata": {
        "id": "V0xNWbmNBIE9"
      },
      "source": [
        "def accuracy(dataloader,model):\n",
        "  total, correct = 0,0\n",
        "  for data in dataloader:\n",
        "    input,labels= data\n",
        "    input,labels = input.to(device),labels.to(device)\n",
        "    output = model(input)\n",
        "    max_Val,pred_class = torch.max(output.data,1)\n",
        "    total += labels.size(0)\n",
        "    correct += (pred_class == labels).sum()\n",
        "  return torch.true_divide(correct*100,total) "
      ],
      "execution_count": 74,
      "outputs": []
    },
    {
      "cell_type": "code",
      "metadata": {
        "id": "7oJio8_pDa3K"
      },
      "source": [
        "lenet = Lenet().to(device)\n",
        "lossfn = nn.CrossEntropyLoss()\n",
        "opt = optim.Adam(lenet.parameters())"
      ],
      "execution_count": 75,
      "outputs": []
    },
    {
      "cell_type": "code",
      "metadata": {
        "id": "rHdbSukUD6fk",
        "outputId": "0c1eb361-0e39-436c-85dd-2518c9fb53c2",
        "colab": {
          "base_uri": "https://localhost:8080/",
          "height": 595
        }
      },
      "source": [
        "%%time\n",
        "max_epoch = 32\n",
        "for epoch in range(max_epoch):\n",
        "  for i,data in enumerate(trainset,0):\n",
        "    inps, labels = data\n",
        "    inps, labels = inps.to(device),labels.to(device)\n",
        "    opt.zero_grad()\n",
        "    loss = lossfn(lenet(inps),labels)\n",
        "    loss.backward()\n",
        "    opt.step()\n",
        "  print('Epoch :',epoch,'/',max_epoch,'Loss is:',loss.item())"
      ],
      "execution_count": 76,
      "outputs": [
        {
          "output_type": "stream",
          "text": [
            "Epoch : 0 / 32 Loss is: 1.538364052772522\n",
            "Epoch : 1 / 32 Loss is: 1.7239067554473877\n",
            "Epoch : 2 / 32 Loss is: 1.23875892162323\n",
            "Epoch : 3 / 32 Loss is: 1.424127459526062\n",
            "Epoch : 4 / 32 Loss is: 1.251449704170227\n",
            "Epoch : 5 / 32 Loss is: 1.192341923713684\n",
            "Epoch : 6 / 32 Loss is: 1.157594919204712\n",
            "Epoch : 7 / 32 Loss is: 1.2191708087921143\n",
            "Epoch : 8 / 32 Loss is: 1.1265733242034912\n",
            "Epoch : 9 / 32 Loss is: 1.522506833076477\n",
            "Epoch : 10 / 32 Loss is: 1.0725568532943726\n",
            "Epoch : 11 / 32 Loss is: 1.0506104230880737\n",
            "Epoch : 12 / 32 Loss is: 0.9163331985473633\n",
            "Epoch : 13 / 32 Loss is: 0.8944609761238098\n",
            "Epoch : 14 / 32 Loss is: 1.1217654943466187\n",
            "Epoch : 15 / 32 Loss is: 0.8239011764526367\n",
            "Epoch : 16 / 32 Loss is: 0.8525492548942566\n",
            "Epoch : 17 / 32 Loss is: 0.9200846552848816\n",
            "Epoch : 18 / 32 Loss is: 0.7832186818122864\n",
            "Epoch : 19 / 32 Loss is: 0.8203381299972534\n",
            "Epoch : 20 / 32 Loss is: 0.777091920375824\n",
            "Epoch : 21 / 32 Loss is: 0.804993748664856\n",
            "Epoch : 22 / 32 Loss is: 0.5650824904441833\n",
            "Epoch : 23 / 32 Loss is: 0.7677661180496216\n",
            "Epoch : 24 / 32 Loss is: 0.8037186861038208\n",
            "Epoch : 25 / 32 Loss is: 0.8482853174209595\n",
            "Epoch : 26 / 32 Loss is: 0.7466887831687927\n",
            "Epoch : 27 / 32 Loss is: 0.60906982421875\n",
            "Epoch : 28 / 32 Loss is: 0.6150197386741638\n",
            "Epoch : 29 / 32 Loss is: 0.5859740972518921\n",
            "Epoch : 30 / 32 Loss is: 0.7235674858093262\n",
            "Epoch : 31 / 32 Loss is: 0.6441265344619751\n",
            "CPU times: user 2min 43s, sys: 1.32 s, total: 2min 44s\n",
            "Wall time: 2min 45s\n"
          ],
          "name": "stdout"
        }
      ]
    },
    {
      "cell_type": "code",
      "metadata": {
        "id": "3ZbP7escFpkD",
        "outputId": "085e4357-81aa-4f31-c03e-5bb8a27c8be6",
        "colab": {
          "base_uri": "https://localhost:8080/",
          "height": 68
        }
      },
      "source": [
        "%%time\n",
        "print('Train Accuracy :{} Test Accuracy :{}'.format(accuracy(trainset,lenet),accuracy(testset,lenet)))"
      ],
      "execution_count": 77,
      "outputs": [
        {
          "output_type": "stream",
          "text": [
            "Train Accuracy :78.05599975585938 Test Accuracy :62.37999725341797\n",
            "CPU times: user 5.31 s, sys: 26.8 ms, total: 5.33 s\n",
            "Wall time: 5.33 s\n"
          ],
          "name": "stdout"
        }
      ]
    }
  ]
}